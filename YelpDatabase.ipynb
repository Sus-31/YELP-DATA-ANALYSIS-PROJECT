{
 "cells": [
  {
   "cell_type": "code",
   "execution_count": 1,
   "id": "4bbe5d50",
   "metadata": {},
   "outputs": [],
   "source": [
    "import pandas as pd\n",
    "import json\n",
    "from sqlalchemy import create_engine"
   ]
  },
  {
   "cell_type": "code",
   "execution_count": 2,
   "id": "aab80cf7",
   "metadata": {},
   "outputs": [],
   "source": [
    "with open('yelp_academic_dataset_business.json', 'r', encoding='utf-8') as f:\n",
    "        business_data = [json.loads(line) for line in f]"
   ]
  },
  {
   "cell_type": "code",
   "execution_count": 3,
   "id": "ff1b856f",
   "metadata": {},
   "outputs": [],
   "source": [
    "business_df = pd.DataFrame(business_data)"
   ]
  },
  {
   "cell_type": "code",
   "execution_count": 4,
   "id": "db334585",
   "metadata": {},
   "outputs": [],
   "source": [
    "with open('yelp_academic_dataset_checkin.json', 'r', encoding='utf-8') as f:\n",
    "        checkin_data = [json.loads(line) for line in f]\n",
    "checkin_df = pd.DataFrame(checkin_data)"
   ]
  },
  {
   "cell_type": "code",
   "execution_count": 5,
   "id": "96e79b88",
   "metadata": {},
   "outputs": [],
   "source": [
    "chunk_size = 10000\n",
    "\n",
    "review_data = []\n",
    "review_dfs = []\n",
    "with open('yelp_academic_dataset_review.json', 'r', encoding='utf-8') as f:\n",
    "    for line in f:\n",
    "        review_data.append(json.loads(line))\n",
    "        if len(review_data) >= chunk_size:\n",
    "            review_df_chunk = pd.DataFrame(review_data)\n",
    "            review_dfs.append(review_df_chunk) \n",
    "            review_data = []\n",
    "\n",
    "if review_data:\n",
    "    review_df_chunk = pd.DataFrame(review_data)\n",
    "    review_dfs.append(review_df_chunk) \n",
    "    \n",
    "review_df = pd.concat(review_dfs)\n"
   ]
  },
  {
   "cell_type": "code",
   "execution_count": 6,
   "id": "4772504d",
   "metadata": {},
   "outputs": [],
   "source": [
    "with open('yelp_academic_dataset_tip.json', 'r', encoding='utf-8') as f:\n",
    "        tip_data = [json.loads(line) for line in f]\n",
    "tip_df = pd.DataFrame(tip_data)"
   ]
  },
  {
   "cell_type": "code",
   "execution_count": 7,
   "id": "b741cfcf",
   "metadata": {},
   "outputs": [],
   "source": [
    "chunk_size = 10000  \n",
    "\n",
    "user_dfs = []\n",
    "with open('yelp_academic_dataset_user.json', 'r', encoding='utf-8') as f:\n",
    "    chunk_data = []\n",
    "    for line in f:\n",
    "        chunk_data.append(json.loads(line))\n",
    "        if len(chunk_data) >= chunk_size:\n",
    "            user_df_chunk = pd.DataFrame(chunk_data)\n",
    "            user_dfs.append(user_df_chunk) \n",
    "            chunk_data = []\n",
    "\n",
    "    if chunk_data:\n",
    "        user_df_chunk = pd.DataFrame(chunk_data)\n",
    "        user_dfs.append(user_df_chunk)\n",
    "\n",
    "user_df = pd.concat(user_dfs)\n"
   ]
  },
  {
   "cell_type": "code",
   "execution_count": 8,
   "id": "d832e2a7",
   "metadata": {},
   "outputs": [
    {
     "name": "stdout",
     "output_type": "stream",
     "text": [
      "(150346, 14)\n",
      "(131930, 2)\n",
      "(6990280, 9)\n",
      "(908915, 5)\n",
      "(1987897, 22)\n"
     ]
    }
   ],
   "source": [
    "print(business_df.shape)\n",
    "print(checkin_df.shape)\n",
    "print(review_df.shape)\n",
    "print(tip_df.shape)\n",
    "print(user_df.shape)"
   ]
  },
  {
   "cell_type": "code",
   "execution_count": 9,
   "id": "ec0c95c0",
   "metadata": {},
   "outputs": [],
   "source": [
    "business_df.drop(['attributes','hours'],axis=1,inplace= True )"
   ]
  },
  {
   "cell_type": "code",
   "execution_count": 10,
   "id": "74550374",
   "metadata": {},
   "outputs": [],
   "source": [
    "engine = create_engine('sqlite:///yelp.db')\n",
    "\n",
    "# Define a function to load DataFrame into SQLite in chunks\n",
    "def load_dataframe_chunked(df, table_name, engine, chunk_size=1000):\n",
    "    with engine.connect() as connection:\n",
    "        # Loop through DataFrame in chunks\n",
    "        for i in range(0, len(df), chunk_size):\n",
    "            chunk = df.iloc[i:i+chunk_size]\n",
    "            # Use the 'append' method to append data to the table\n",
    "            chunk.to_sql(table_name, con=connection, if_exists='append', index=False)\n",
    "\n",
    "# List of DataFrames and corresponding table names\n",
    "dataframes = [business_df, checkin_df, review_df, tip_df, user_df]\n",
    "table_names = ['business', 'checkin', 'review', 'tip', 'user']\n",
    "\n",
    "# Loop through each DataFrame and load it into SQLite in chunks\n",
    "for df, table_name in zip(dataframes, table_names):\n",
    "    load_dataframe_chunked(df, table_name, engine)\n"
   ]
  },
  {
   "cell_type": "code",
   "execution_count": null,
   "id": "85036754",
   "metadata": {},
   "outputs": [],
   "source": []
  }
 ],
 "metadata": {
  "kernelspec": {
   "display_name": "Python 3 (ipykernel)",
   "language": "python",
   "name": "python3"
  },
  "language_info": {
   "codemirror_mode": {
    "name": "ipython",
    "version": 3
   },
   "file_extension": ".py",
   "mimetype": "text/x-python",
   "name": "python",
   "nbconvert_exporter": "python",
   "pygments_lexer": "ipython3",
   "version": "3.11.5"
  }
 },
 "nbformat": 4,
 "nbformat_minor": 5
}
